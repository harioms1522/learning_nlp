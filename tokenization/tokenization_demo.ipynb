{
 "cells": [
  {
   "cell_type": "code",
   "execution_count": 1,
   "id": "eb422cc4",
   "metadata": {},
   "outputs": [
    {
     "name": "stdout",
     "output_type": "stream",
     "text": [
      "\n",
      "    Hello, world! This is a test.\n",
      "    This is a second line.\n",
      "    This is a third line.\n",
      "    This is a fourth line.\n",
      "    This is a demo comment to use as nltk tokenize the text.\n",
      "\n"
     ]
    }
   ],
   "source": [
    "text = \"\"\"\n",
    "    Hello, world! This is a test.\n",
    "    This is a second line.\n",
    "    This is a third line.\n",
    "    This is a fourth line.\n",
    "    This is a demo comment to use as nltk tokenize the text.\n",
    "\"\"\"\n",
    "print(text)"
   ]
  },
  {
   "cell_type": "code",
   "execution_count": 2,
   "id": "e25656c1",
   "metadata": {},
   "outputs": [],
   "source": [
    "# TOKENIZE\n",
    "# sentences <<< paragraphs <<< corpus\n",
    "from nltk.tokenize import word_tokenize, sent_tokenize, wordpunct_tokenize, TreebankWordTokenizer\n",
    "# nltk.download('punkt')\n",
    "# nltk.download()"
   ]
  },
  {
   "cell_type": "code",
   "execution_count": 3,
   "id": "0324bf76",
   "metadata": {},
   "outputs": [],
   "source": [
    "sentences = sent_tokenize(text)\n",
    "# ['\\n    Hello, world! This is a test.\\n    This is a second line.\\n    This is a third line.\\n    This is a fourth line.\\n    This is a demo comment to use as nltk tokenize the text.\\n'text"
   ]
  },
  {
   "cell_type": "code",
   "execution_count": 4,
   "id": "ce5a40c5",
   "metadata": {},
   "outputs": [
    {
     "name": "stdout",
     "output_type": "stream",
     "text": [
      "['Hello', ',', 'world', '!']\n",
      "['This', 'is', 'a', 'test', '.']\n",
      "['This', 'is', 'a', 'second', 'line', '.']\n",
      "['This', 'is', 'a', 'third', 'line', '.']\n",
      "['This', 'is', 'a', 'fourth', 'line', '.']\n",
      "['This', 'is', 'a', 'demo', 'comment', 'to', 'use', 'as', 'nltk', 'tokenize', 'the', 'text', '.']\n"
     ]
    }
   ],
   "source": [
    "for sentence in sentences:\n",
    "    words = word_tokenize(sentence)\n",
    "    print(words)"
   ]
  },
  {
   "cell_type": "code",
   "execution_count": 5,
   "id": "b975e334",
   "metadata": {},
   "outputs": [
    {
     "name": "stdout",
     "output_type": "stream",
     "text": [
      "['Hello', ',', 'world', '!', 'This', 'is', 'a', 'test', '.', 'This', 'is', 'a', 'second', 'line', '.', 'This', 'is', 'a', 'third', 'line', '.', 'This', 'is', 'a', 'fourth', 'line', '.', 'This', 'is', 'a', 'demo', 'comment', 'to', 'use', 'as', 'nltk', 'tokenize', 'the', 'text', '.']\n"
     ]
    }
   ],
   "source": [
    "print(wordpunct_tokenize(text))"
   ]
  },
  {
   "cell_type": "code",
   "execution_count": 6,
   "id": "8534b6d0",
   "metadata": {},
   "outputs": [
    {
     "name": "stdout",
     "output_type": "stream",
     "text": [
      "['Hello', ',', 'world', '!', 'This', 'is', 'a', 'test.', 'This', 'is', 'a', 'second', 'line.', 'This', 'is', 'a', 'third', 'line.', 'This', 'is', 'a', 'fourth', 'line.', 'This', 'is', 'a', 'demo', 'comment', 'to', 'use', 'as', 'nltk', 'tokenize', 'the', 'text', '.']\n"
     ]
    }
   ],
   "source": [
    "tokenizer = TreebankWordTokenizer()\n",
    "print(tokenizer.tokenize(text))"
   ]
  }
 ],
 "metadata": {
  "kernelspec": {
   "display_name": "venv",
   "language": "python",
   "name": "python3"
  },
  "language_info": {
   "codemirror_mode": {
    "name": "ipython",
    "version": 3
   },
   "file_extension": ".py",
   "mimetype": "text/x-python",
   "name": "python",
   "nbconvert_exporter": "python",
   "pygments_lexer": "ipython3",
   "version": "3.12.10"
  }
 },
 "nbformat": 4,
 "nbformat_minor": 5
}

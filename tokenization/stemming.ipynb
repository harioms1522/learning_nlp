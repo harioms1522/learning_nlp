{
 "cells": [
  {
   "cell_type": "markdown",
   "id": "699ce860",
   "metadata": {},
   "source": [
    "### Stemming\n",
    "1. convert words in stems"
   ]
  },
  {
   "cell_type": "code",
   "execution_count": 1,
   "id": "14a7a4fd",
   "metadata": {},
   "outputs": [
    {
     "name": "stdout",
     "output_type": "stream",
     "text": [
      "Stemming verbs using Porter Stemmer:\n",
      "running -> run\n",
      "ran -> ran\n",
      "runs -> run\n",
      "eating -> eat\n",
      "ate -> ate\n",
      "eats -> eat\n",
      "swimming -> swim\n",
      "swam -> swam\n",
      "swims -> swim\n",
      "jumping -> jump\n",
      "jumped -> jump\n",
      "jumps -> jump\n",
      "flying -> fli\n",
      "flew -> flew\n",
      "flies -> fli\n"
     ]
    }
   ],
   "source": [
    "from nltk.stem import PorterStemmer\n",
    "\n",
    "# dummy verbs to stem\n",
    "verbs = [\n",
    "    \"running\",\n",
    "    \"ran\",\n",
    "    \"runs\",\n",
    "    \"eating\",\n",
    "    \"ate\",\n",
    "    \"eats\",\n",
    "    \"swimming\", \n",
    "    \"swam\",\n",
    "    \"swims\",\n",
    "    \"jumping\",\n",
    "    \"jumped\",\n",
    "    \"jumps\",\n",
    "    \"flying\",\n",
    "    \"flew\",\n",
    "    \"flies\",\n",
    "]\n",
    "\n",
    "# create a stemmer object\n",
    "stemmer = PorterStemmer()\n",
    "\n",
    "print(\"Stemming verbs using Porter Stemmer:\")\n",
    "for verb in verbs:\n",
    "    stemmed_verb = stemmer.stem(verb)\n",
    "    print(f\"{verb} -> {stemmed_verb}\")"
   ]
  },
  {
   "cell_type": "markdown",
   "id": "178a511a",
   "metadata": {},
   "source": [
    "##### RegexStemmer"
   ]
  },
  {
   "cell_type": "code",
   "execution_count": 9,
   "id": "7c806490",
   "metadata": {},
   "outputs": [
    {
     "name": "stdout",
     "output_type": "stream",
     "text": [
      "\n",
      "Stemming verbs using Regexp Stemmer:\n",
      "running -> runn\n",
      "ran -> ran\n",
      "runs -> run\n",
      "eating -> eat\n",
      "ate -> ate\n",
      "eats -> eat\n",
      "swimming -> swimm\n",
      "swam -> swam\n",
      "swims -> swim\n",
      "jumping -> jump\n",
      "jumped -> jump\n",
      "jumps -> jump\n",
      "flying -> fly\n",
      "flew -> flew\n",
      "flies -> flie\n"
     ]
    }
   ],
   "source": [
    "from nltk.stem import RegexpStemmer\n",
    "stemmer_regexp = RegexpStemmer(\"ing$|ed$|s$\", min=4)\n",
    "print(\"\\nStemming verbs using Regexp Stemmer:\")\n",
    "for verb in verbs:\n",
    "    stemmed_verb = stemmer_regexp.stem(verb)\n",
    "    print(f\"{verb} -> {stemmed_verb}\")"
   ]
  },
  {
   "cell_type": "markdown",
   "id": "ff43a405",
   "metadata": {},
   "source": [
    "```\n",
    "    This is not good as we can see the ran and running --> Thats's why we use lemmatization\n",
    "    Regex stemmer is also not that good.\n",
    "```"
   ]
  },
  {
   "cell_type": "code",
   "execution_count": 10,
   "id": "c5f14f19",
   "metadata": {},
   "outputs": [
    {
     "name": "stdout",
     "output_type": "stream",
     "text": [
      "congratul\n",
      "congratul\n",
      "congratulation\n"
     ]
    }
   ],
   "source": [
    "print(stemmer.stem(\"congratulations\"))\n",
    "print(stemmer.stem(\"congratulate\"))\n",
    "\n",
    "print(stemmer_regexp.stem(\"congratulations\"))"
   ]
  },
  {
   "cell_type": "code",
   "execution_count": 12,
   "id": "644a314f",
   "metadata": {},
   "outputs": [
    {
     "name": "stdout",
     "output_type": "stream",
     "text": [
      "\n",
      "Stemming verbs using Snowball Stemmer:\n"
     ]
    }
   ],
   "source": [
    "from nltk.stem import SnowballStemmer\n",
    "stemmer_snowball = SnowballStemmer(\"english\")\n",
    "print(\"\\nStemming verbs using Snowball Stemmer:\")"
   ]
  },
  {
   "cell_type": "code",
   "execution_count": 13,
   "id": "de2be96f",
   "metadata": {},
   "outputs": [
    {
     "name": "stdout",
     "output_type": "stream",
     "text": [
      "running => run\n",
      "ran => ran\n",
      "runs => run\n",
      "eating => eat\n",
      "ate => ate\n",
      "eats => eat\n",
      "swimming => swim\n",
      "swam => swam\n",
      "swims => swim\n",
      "jumping => jump\n",
      "jumped => jump\n",
      "jumps => jump\n",
      "flying => fli\n",
      "flew => flew\n",
      "flies => fli\n"
     ]
    }
   ],
   "source": [
    "for verb in verbs:\n",
    "    stemmed_verb = stemmer_snowball.stem(verb)\n",
    "    print(f\"{verb} => {stemmed_verb}\")"
   ]
  },
  {
   "cell_type": "code",
   "execution_count": 16,
   "id": "06751771",
   "metadata": {},
   "outputs": [
    {
     "name": "stdout",
     "output_type": "stream",
     "text": [
      "congratul\n",
      "fairi\n",
      "fair\n"
     ]
    }
   ],
   "source": [
    "print(stemmer_snowball.stem(\"congratulations\"))\n",
    "print(stemmer_snowball.stem(\"fairy\"))\n",
    "print(stemmer_snowball.stem(\"fairly\"))"
   ]
  }
 ],
 "metadata": {
  "kernelspec": {
   "display_name": "venv",
   "language": "python",
   "name": "python3"
  },
  "language_info": {
   "codemirror_mode": {
    "name": "ipython",
    "version": 3
   },
   "file_extension": ".py",
   "mimetype": "text/x-python",
   "name": "python",
   "nbconvert_exporter": "python",
   "pygments_lexer": "ipython3",
   "version": "3.12.10"
  }
 },
 "nbformat": 4,
 "nbformat_minor": 5
}
